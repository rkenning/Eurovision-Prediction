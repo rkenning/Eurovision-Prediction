{
 "cells": [
  {
   "cell_type": "code",
   "execution_count": 1,
   "metadata": {
    "collapsed": false
   },
   "outputs": [
    {
     "data": {
      "text/plain": [
       "Index(['Year', 'Song Title', 'Local Lyrics Lines', 'Local Lyrics Single Line',\n",
       "       'Translation', 'Translation Multi Line', 'Country', 'Composer',\n",
       "       'Lyrics', 'Conductor', 'Contest', 'Semi-final', 'Semi Final Position',\n",
       "       'Semi Final Poinst', 'Final Position', 'Final Points',\n",
       "       'Other Version 1', 'Other Version 2', 'Other Version 3',\n",
       "       'Other Version 4', 'Other Version 5', 'Other Version 6',\n",
       "       'Other Version 7', 'Other Version 8', 'Other Version 9'],\n",
       "      dtype='object')"
      ]
     },
     "execution_count": 1,
     "metadata": {},
     "output_type": "execute_result"
    }
   ],
   "source": [
    "import pandas as pd\n",
    "df= pd.read_csv(\"FinalDataSet.csv\")\n",
    "df.columns"
   ]
  },
  {
   "cell_type": "code",
   "execution_count": 2,
   "metadata": {
    "collapsed": true
   },
   "outputs": [],
   "source": [
    "# Populate the missing translation lyrics with the local lyrics where they are missing\n",
    "df['Translation Multi Line'].fillna(df['Local Lyrics Lines'],inplace=True)\n",
    "# Populate the missing translation lyrics with the local lyrics where they are missing\n",
    "df['Translation'].fillna(df['Local Lyrics Single Line'],inplace=True)"
   ]
  },
  {
   "cell_type": "code",
   "execution_count": 3,
   "metadata": {
    "collapsed": false
   },
   "outputs": [
    {
     "data": {
      "text/html": [
       "<div>\n",
       "<style scoped>\n",
       "    .dataframe tbody tr th:only-of-type {\n",
       "        vertical-align: middle;\n",
       "    }\n",
       "\n",
       "    .dataframe tbody tr th {\n",
       "        vertical-align: top;\n",
       "    }\n",
       "\n",
       "    .dataframe thead th {\n",
       "        text-align: right;\n",
       "    }\n",
       "</style>\n",
       "<table border=\"1\" class=\"dataframe\">\n",
       "  <thead>\n",
       "    <tr style=\"text-align: right;\">\n",
       "      <th></th>\n",
       "      <th>Year</th>\n",
       "      <th>Song Title</th>\n",
       "      <th>Local Lyrics Lines</th>\n",
       "      <th>Local Lyrics Single Line</th>\n",
       "      <th>Translation</th>\n",
       "      <th>Translation Multi Line</th>\n",
       "      <th>Country</th>\n",
       "      <th>Composer</th>\n",
       "      <th>Lyrics</th>\n",
       "      <th>Conductor</th>\n",
       "      <th>...</th>\n",
       "      <th>Final Points</th>\n",
       "      <th>Other Version 1</th>\n",
       "      <th>Other Version 2</th>\n",
       "      <th>Other Version 3</th>\n",
       "      <th>Other Version 4</th>\n",
       "      <th>Other Version 5</th>\n",
       "      <th>Other Version 6</th>\n",
       "      <th>Other Version 7</th>\n",
       "      <th>Other Version 8</th>\n",
       "      <th>Other Version 9</th>\n",
       "    </tr>\n",
       "  </thead>\n",
       "  <tbody>\n",
       "  </tbody>\n",
       "</table>\n",
       "<p>0 rows × 25 columns</p>\n",
       "</div>"
      ],
      "text/plain": [
       "Empty DataFrame\n",
       "Columns: [Year, Song Title, Local Lyrics Lines, Local Lyrics Single Line, Translation, Translation Multi Line, Country, Composer, Lyrics, Conductor, Contest, Semi-final, Semi Final Position, Semi Final Poinst, Final Position, Final Points, Other Version 1, Other Version 2, Other Version 3, Other Version 4, Other Version 5, Other Version 6, Other Version 7, Other Version 8, Other Version 9]\n",
       "Index: []\n",
       "\n",
       "[0 rows x 25 columns]"
      ]
     },
     "execution_count": 3,
     "metadata": {},
     "output_type": "execute_result"
    }
   ],
   "source": [
    "#Check its all lyrics are populated\n",
    "df[pd.isnull(df['Translation'])]"
   ]
  },
  {
   "cell_type": "code",
   "execution_count": 4,
   "metadata": {
    "collapsed": false
   },
   "outputs": [
    {
     "name": "stdout",
     "output_type": "stream",
     "text": [
      "[nltk_data] Downloading package punkt to\n",
      "[nltk_data]     C:\\Users\\rkenn\\AppData\\Roaming\\nltk_data...\n",
      "[nltk_data]   Package punkt is already up-to-date!\n"
     ]
    },
    {
     "data": {
      "text/plain": [
       "True"
      ]
     },
     "execution_count": 4,
     "metadata": {},
     "output_type": "execute_result"
    }
   ],
   "source": [
    "import nltk \n",
    "nltk.download('punkt')"
   ]
  },
  {
   "cell_type": "code",
   "execution_count": 32,
   "metadata": {
    "collapsed": false
   },
   "outputs": [
    {
     "name": "stdout",
     "output_type": "stream",
     "text": [
      "<FreqDist with 13100 samples and 414861 outcomes>\n"
     ]
    }
   ],
   "source": [
    "#Initial Review of the word freq\n",
    "top_N = 10000\n",
    "#if not necessary all lower\n",
    "a = df['Translation Multi Line'].str.lower().str.cat(sep=' ')\n",
    "words = nltk.tokenize.word_tokenize(a)\n",
    "word_dist = nltk.FreqDist(words)\n",
    "print (word_dist)\n",
    "\n",
    "rslt = pd.DataFrame(word_dist.most_common(top_N),\n",
    "                    columns=['Word', 'Frequency'])\n",
    "rslt.head(4)"
   ]
  },
  {
   "cell_type": "code",
   "execution_count": null,
   "metadata": {
    "collapsed": true
   },
   "outputs": [],
   "source": [
    "#Setup the Stop words removal\n",
    "from nltk.corpus import stopwords\n",
    "from nltk.tokenize import word_tokenize"
   ]
  },
  {
   "cell_type": "code",
   "execution_count": 49,
   "metadata": {
    "collapsed": true
   },
   "outputs": [],
   "source": [
    "stop_words = set(stopwords.words('english'))"
   ]
  },
  {
   "cell_type": "code",
   "execution_count": 50,
   "metadata": {
    "collapsed": false
   },
   "outputs": [
    {
     "ename": "AttributeError",
     "evalue": "'set' object has no attribute 'Update'",
     "output_type": "error",
     "traceback": [
      "\u001b[1;31m---------------------------------------------------------------------------\u001b[0m",
      "\u001b[1;31mAttributeError\u001b[0m                            Traceback (most recent call last)",
      "\u001b[1;32m<ipython-input-50-ee21595c57ba>\u001b[0m in \u001b[0;36m<module>\u001b[1;34m()\u001b[0m\n\u001b[1;32m----> 1\u001b[1;33m \u001b[0mstop_words\u001b[0m\u001b[1;33m.\u001b[0m\u001b[0mUpdate\u001b[0m\u001b[1;33m(\u001b[0m\u001b[1;33m(\u001b[0m\u001b[1;34m\";\"\u001b[0m\u001b[1;33m)\u001b[0m\u001b[1;33m)\u001b[0m\u001b[1;33m\u001b[0m\u001b[0m\n\u001b[0m",
      "\u001b[1;31mAttributeError\u001b[0m: 'set' object has no attribute 'Update'"
     ]
    }
   ],
   "source": [
    "stop_words.Update((\";\"))"
   ]
  },
  {
   "cell_type": "code",
   "execution_count": 47,
   "metadata": {
    "collapsed": false
   },
   "outputs": [
    {
     "ename": "AttributeError",
     "evalue": "'set' object has no attribute 'Update'",
     "output_type": "error",
     "traceback": [
      "\u001b[1;31m---------------------------------------------------------------------------\u001b[0m",
      "\u001b[1;31mAttributeError\u001b[0m                            Traceback (most recent call last)",
      "\u001b[1;32m<ipython-input-47-67e73a4210c3>\u001b[0m in \u001b[0;36m<module>\u001b[1;34m()\u001b[0m\n\u001b[0;32m      4\u001b[0m \u001b[1;33m\u001b[0m\u001b[0m\n\u001b[0;32m      5\u001b[0m \u001b[0mstop_words\u001b[0m \u001b[1;33m=\u001b[0m \u001b[0mset\u001b[0m\u001b[1;33m(\u001b[0m\u001b[0mstopwords\u001b[0m\u001b[1;33m.\u001b[0m\u001b[0mwords\u001b[0m\u001b[1;33m(\u001b[0m\u001b[1;34m'english'\u001b[0m\u001b[1;33m)\u001b[0m\u001b[1;33m)\u001b[0m\u001b[1;33m\u001b[0m\u001b[0m\n\u001b[1;32m----> 6\u001b[1;33m \u001b[0mstop_words\u001b[0m\u001b[1;33m.\u001b[0m\u001b[0mUpdate\u001b[0m\u001b[1;33m(\u001b[0m\u001b[1;33m(\u001b[0m\u001b[1;34m';'\u001b[0m\u001b[1;33m)\u001b[0m\u001b[1;33m)\u001b[0m\u001b[1;33m\u001b[0m\u001b[0m\n\u001b[0m\u001b[0;32m      7\u001b[0m \u001b[0ma\u001b[0m \u001b[1;33m=\u001b[0m \u001b[0mdf\u001b[0m\u001b[1;33m[\u001b[0m\u001b[1;34m'Translation Multi Line'\u001b[0m\u001b[1;33m]\u001b[0m\u001b[1;33m.\u001b[0m\u001b[0mstr\u001b[0m\u001b[1;33m.\u001b[0m\u001b[0mlower\u001b[0m\u001b[1;33m(\u001b[0m\u001b[1;33m)\u001b[0m\u001b[1;33m.\u001b[0m\u001b[0mstr\u001b[0m\u001b[1;33m.\u001b[0m\u001b[0mcat\u001b[0m\u001b[1;33m(\u001b[0m\u001b[0msep\u001b[0m\u001b[1;33m=\u001b[0m\u001b[1;34m' '\u001b[0m\u001b[1;33m)\u001b[0m\u001b[1;33m\u001b[0m\u001b[0m\n\u001b[0;32m      8\u001b[0m \u001b[0mwords\u001b[0m \u001b[1;33m=\u001b[0m \u001b[0mnltk\u001b[0m\u001b[1;33m.\u001b[0m\u001b[0mtokenize\u001b[0m\u001b[1;33m.\u001b[0m\u001b[0mword_tokenize\u001b[0m\u001b[1;33m(\u001b[0m\u001b[0ma\u001b[0m\u001b[1;33m)\u001b[0m\u001b[1;33m\u001b[0m\u001b[0m\n",
      "\u001b[1;31mAttributeError\u001b[0m: 'set' object has no attribute 'Update'"
     ]
    }
   ],
   "source": [
    "a = df['Translation Multi Line'].str.lower().str.cat(sep=' ')\n",
    "words = nltk.tokenize.word_tokenize(a)"
   ]
  },
  {
   "cell_type": "code",
   "execution_count": 46,
   "metadata": {
    "collapsed": false
   },
   "outputs": [
    {
     "data": {
      "text/plain": [
       "<WordListCorpusReader in 'C:\\\\Users\\\\rkenn\\\\AppData\\\\Roaming\\\\nltk_data\\\\corpora\\\\stopwords'>"
      ]
     },
     "execution_count": 46,
     "metadata": {},
     "output_type": "execute_result"
    }
   ],
   "source": [
    "stopwords"
   ]
  },
  {
   "cell_type": "code",
   "execution_count": 35,
   "metadata": {
    "collapsed": false
   },
   "outputs": [],
   "source": [
    "df.drop('Removed Stop', axis=1)\n",
    "\n",
    "df['Removed Stop'] = df['Translation Multi Line'].apply(lambda x: ' '.join([item for item in x.split() if item not in (stop_words)]))"
   ]
  },
  {
   "cell_type": "code",
   "execution_count": 39,
   "metadata": {
    "collapsed": false
   },
   "outputs": [
    {
     "data": {
      "text/plain": [
       "0       (We’re gathered today)Sometimes open door hope...\n",
       "1       Who told hide behind veil? Who told get way? D...\n",
       "2       Translation How I stay away? What I say ya gon...\n",
       "3       Fighter, oximated World gonna get see I’m warr...\n",
       "4       Wish I knew I lost Right going back The line c...\n",
       "5       Even human bound, people rolling dice Image gr...\n",
       "6       Ley lala ley la… lala ley lala ley la… Lala le...\n",
       "7       Like bullet chest You’re written, bound etched...\n",
       "8       Translation Naina naina nanana naina… Naina na...\n",
       "9       For peace pray Save us fears Oh Lord, save us…...\n",
       "10      Translation A thousand sunsets lost sea, lost ...\n",
       "11      Translation Come edge world Like sitting empty...\n",
       "12      Blackbird, blackbird, don’t sing Don’t sing wi...\n",
       "13      Floodgates, can’t wait Here comes, shut ’em fa...\n",
       "14      When you’re down, low And there’s place go Whe...\n",
       "15      Looking candidate You option, one choice Sippi...\n",
       "16      Lala lala lalala… lala lala lalala la love Lal...\n",
       "17      Translation If moon doesn’t rise quickly, let ...\n",
       "18      (Never, never, never, never)Obsession, hide ba...\n",
       "19      Faster light, comes night Tomorrow You flow ve...\n",
       "20      Translation I feel cold, deceitful shadows The...\n",
       "21      Translation I never felt end way And I know Th...\n",
       "22      Translation We ready, jewellery 24 carat Our b...\n",
       "23      Translation Who I? Bill please I ran gas, gas ...\n",
       "24      Translation If life song Happy, sad, I would s...\n",
       "25      Translation There days like this, leave us alo...\n",
       "26      Translation Come dance waves adventure I promi...\n",
       "27      Translation Of small things one worthiest Of g...\n",
       "28      Yeah babyOnce I gave one chance You showed dan...\n",
       "29      Tonight rain falling, I’m feeling cold And I’m...\n",
       "                              ...                        \n",
       "1529    You’re keeping fascinated No, I ain’t running ...\n",
       "1530    You’re love, you’re sweetest thing Don’t shy a...\n",
       "1531    ‘Cause I do, I do, I I do, I do, I love like f...\n",
       "1532    (“What learn school today?”) (That’s teachers ...\n",
       "1533    (Don’t ever stop) All right, girls (Are shakin...\n",
       "1534    (Doob doo doobn da dap da…) (Doob doo doobn da...\n",
       "1535    (Ela, ela, ela, ela, ela, la…) (Ela, ela, ela,...\n",
       "1536    (Ge-ge-ge-get back again) (Ge-ge-ge-get back a...\n",
       "1537    (Glorious)Do know it’s time let go? Why don’t ...\n",
       "1538    (How long I wait you?) (How long wait me?)If d...\n",
       "1539    (It’s better devil, devil) (Yeah, yeah, yeah…)...\n",
       "1540    (One step time) Ooh yeah…Another week, another...\n",
       "1541    (Ooh ooh… nana nana…)Came flyin’ life like sho...\n",
       "1542    (Power people, oh hey hey) (Power people, oh o...\n",
       "1543    (Ring-a-ding-a-ding, ding-ding) (Ring-a-ding-a...\n",
       "1544    (Sister, sister) (Sister, sister) Once upon ti...\n",
       "1545    (This captain speaking) (I’d like welcome aboa...\n",
       "1546    (This time I mean it, oh baby)I don’t know it’...\n",
       "1547    (You playin’ love games) (You playin’ love gam...\n",
       "1548    A Il Cairo non lo sanno che ore sono adesso Il...\n",
       "1549    A man without love half man And half man nothi...\n",
       "1550    A night spring lovely thing But I feel sad nig...\n",
       "1551    A part Is feeling weak I took chance But feels...\n",
       "1552    Aha… aha… Stay softly play strings heartDon’t ...\n",
       "1553    Ain’t funny, ain’t funny Oh, started joke But ...\n",
       "1554    All right – Hey hey Well, ready? – You bet But...\n",
       "1555    All faces see way Have story could tell Tiny t...\n",
       "1556    All golden dreams yesterday All fragrance bygo...\n",
       "1557    And today first day living ‘Understanding’ – w...\n",
       "1558    And would always In everything I’d But fool I ...\n",
       "Name: Removed Stop, Length: 1559, dtype: object"
      ]
     },
     "execution_count": 39,
     "metadata": {},
     "output_type": "execute_result"
    }
   ],
   "source": [
    "df['Removed Stop']"
   ]
  },
  {
   "cell_type": "code",
   "execution_count": 40,
   "metadata": {
    "collapsed": false
   },
   "outputs": [
    {
     "name": "stdout",
     "output_type": "stream",
     "text": [
      "<FreqDist with 13095 samples and 291753 outcomes>\n"
     ]
    }
   ],
   "source": [
    "#Initial Review of the word freq\n",
    "top_N = 10000\n",
    "#if not necessary all lower\n",
    "a = df['Removed Stop'].str.lower().str.cat(sep=' ')\n",
    "words = nltk.tokenize.word_tokenize(a)\n",
    "word_dist = nltk.FreqDist(words)\n",
    "print (word_dist)"
   ]
  },
  {
   "cell_type": "code",
   "execution_count": 42,
   "metadata": {
    "collapsed": false
   },
   "outputs": [
    {
     "data": {
      "text/html": [
       "<div>\n",
       "<style scoped>\n",
       "    .dataframe tbody tr th:only-of-type {\n",
       "        vertical-align: middle;\n",
       "    }\n",
       "\n",
       "    .dataframe tbody tr th {\n",
       "        vertical-align: top;\n",
       "    }\n",
       "\n",
       "    .dataframe thead th {\n",
       "        text-align: right;\n",
       "    }\n",
       "</style>\n",
       "<table border=\"1\" class=\"dataframe\">\n",
       "  <thead>\n",
       "    <tr style=\"text-align: right;\">\n",
       "      <th></th>\n",
       "      <th>Word</th>\n",
       "      <th>Frequency</th>\n",
       "    </tr>\n",
       "  </thead>\n",
       "  <tbody>\n",
       "    <tr>\n",
       "      <th>0</th>\n",
       "      <td>,</td>\n",
       "      <td>23890</td>\n",
       "    </tr>\n",
       "    <tr>\n",
       "      <th>1</th>\n",
       "      <td>’</td>\n",
       "      <td>16707</td>\n",
       "    </tr>\n",
       "    <tr>\n",
       "      <th>2</th>\n",
       "      <td>i</td>\n",
       "      <td>14281</td>\n",
       "    </tr>\n",
       "    <tr>\n",
       "      <th>3</th>\n",
       "      <td>s</td>\n",
       "      <td>4434</td>\n",
       "    </tr>\n",
       "    <tr>\n",
       "      <th>4</th>\n",
       "      <td>you</td>\n",
       "      <td>4329</td>\n",
       "    </tr>\n",
       "    <tr>\n",
       "      <th>5</th>\n",
       "      <td>love</td>\n",
       "      <td>4269</td>\n",
       "    </tr>\n",
       "    <tr>\n",
       "      <th>6</th>\n",
       "      <td>t</td>\n",
       "      <td>3943</td>\n",
       "    </tr>\n",
       "    <tr>\n",
       "      <th>7</th>\n",
       "      <td>(</td>\n",
       "      <td>3221</td>\n",
       "    </tr>\n",
       "    <tr>\n",
       "      <th>8</th>\n",
       "      <td>)</td>\n",
       "      <td>3221</td>\n",
       "    </tr>\n",
       "    <tr>\n",
       "      <th>9</th>\n",
       "      <td>and</td>\n",
       "      <td>2944</td>\n",
       "    </tr>\n",
       "    <tr>\n",
       "      <th>10</th>\n",
       "      <td>it</td>\n",
       "      <td>2617</td>\n",
       "    </tr>\n",
       "    <tr>\n",
       "      <th>11</th>\n",
       "      <td>?</td>\n",
       "      <td>2572</td>\n",
       "    </tr>\n",
       "    <tr>\n",
       "      <th>12</th>\n",
       "      <td>m</td>\n",
       "      <td>2528</td>\n",
       "    </tr>\n",
       "    <tr>\n",
       "      <th>13</th>\n",
       "      <td>don</td>\n",
       "      <td>1940</td>\n",
       "    </tr>\n",
       "    <tr>\n",
       "      <th>14</th>\n",
       "      <td>like</td>\n",
       "      <td>1843</td>\n",
       "    </tr>\n",
       "    <tr>\n",
       "      <th>15</th>\n",
       "      <td>ll</td>\n",
       "      <td>1827</td>\n",
       "    </tr>\n",
       "    <tr>\n",
       "      <th>16</th>\n",
       "      <td>we</td>\n",
       "      <td>1810</td>\n",
       "    </tr>\n",
       "    <tr>\n",
       "      <th>17</th>\n",
       "      <td>re</td>\n",
       "      <td>1686</td>\n",
       "    </tr>\n",
       "    <tr>\n",
       "      <th>18</th>\n",
       "      <td>the</td>\n",
       "      <td>1580</td>\n",
       "    </tr>\n",
       "    <tr>\n",
       "      <th>19</th>\n",
       "      <td>know</td>\n",
       "      <td>1538</td>\n",
       "    </tr>\n",
       "    <tr>\n",
       "      <th>20</th>\n",
       "      <td>come</td>\n",
       "      <td>1450</td>\n",
       "    </tr>\n",
       "    <tr>\n",
       "      <th>21</th>\n",
       "      <td>one</td>\n",
       "      <td>1423</td>\n",
       "    </tr>\n",
       "    <tr>\n",
       "      <th>22</th>\n",
       "      <td>oh</td>\n",
       "      <td>1397</td>\n",
       "    </tr>\n",
       "    <tr>\n",
       "      <th>23</th>\n",
       "      <td>let</td>\n",
       "      <td>1388</td>\n",
       "    </tr>\n",
       "    <tr>\n",
       "      <th>24</th>\n",
       "      <td>time</td>\n",
       "      <td>1325</td>\n",
       "    </tr>\n",
       "    <tr>\n",
       "      <th>25</th>\n",
       "      <td>me</td>\n",
       "      <td>1284</td>\n",
       "    </tr>\n",
       "    <tr>\n",
       "      <th>26</th>\n",
       "      <td>heart</td>\n",
       "      <td>1240</td>\n",
       "    </tr>\n",
       "    <tr>\n",
       "      <th>27</th>\n",
       "      <td>life</td>\n",
       "      <td>1234</td>\n",
       "    </tr>\n",
       "    <tr>\n",
       "      <th>28</th>\n",
       "      <td>go</td>\n",
       "      <td>1232</td>\n",
       "    </tr>\n",
       "    <tr>\n",
       "      <th>29</th>\n",
       "      <td>never</td>\n",
       "      <td>1219</td>\n",
       "    </tr>\n",
       "    <tr>\n",
       "      <th>...</th>\n",
       "      <td>...</td>\n",
       "      <td>...</td>\n",
       "    </tr>\n",
       "    <tr>\n",
       "      <th>370</th>\n",
       "      <td>thinking</td>\n",
       "      <td>107</td>\n",
       "    </tr>\n",
       "    <tr>\n",
       "      <th>371</th>\n",
       "      <td>mi</td>\n",
       "      <td>107</td>\n",
       "    </tr>\n",
       "    <tr>\n",
       "      <th>372</th>\n",
       "      <td>three</td>\n",
       "      <td>106</td>\n",
       "    </tr>\n",
       "    <tr>\n",
       "      <th>373</th>\n",
       "      <td>dawn</td>\n",
       "      <td>106</td>\n",
       "    </tr>\n",
       "    <tr>\n",
       "      <th>374</th>\n",
       "      <td>reason</td>\n",
       "      <td>106</td>\n",
       "    </tr>\n",
       "    <tr>\n",
       "      <th>375</th>\n",
       "      <td>miss</td>\n",
       "      <td>106</td>\n",
       "    </tr>\n",
       "    <tr>\n",
       "      <th>376</th>\n",
       "      <td>wanted</td>\n",
       "      <td>106</td>\n",
       "    </tr>\n",
       "    <tr>\n",
       "      <th>377</th>\n",
       "      <td>girls</td>\n",
       "      <td>105</td>\n",
       "    </tr>\n",
       "    <tr>\n",
       "      <th>378</th>\n",
       "      <td>wings</td>\n",
       "      <td>105</td>\n",
       "    </tr>\n",
       "    <tr>\n",
       "      <th>379</th>\n",
       "      <td>lives</td>\n",
       "      <td>105</td>\n",
       "    </tr>\n",
       "    <tr>\n",
       "      <th>380</th>\n",
       "      <td>else</td>\n",
       "      <td>105</td>\n",
       "    </tr>\n",
       "    <tr>\n",
       "      <th>381</th>\n",
       "      <td>great</td>\n",
       "      <td>105</td>\n",
       "    </tr>\n",
       "    <tr>\n",
       "      <th>382</th>\n",
       "      <td>power</td>\n",
       "      <td>105</td>\n",
       "    </tr>\n",
       "    <tr>\n",
       "      <th>383</th>\n",
       "      <td>friends</td>\n",
       "      <td>105</td>\n",
       "    </tr>\n",
       "    <tr>\n",
       "      <th>384</th>\n",
       "      <td>which</td>\n",
       "      <td>104</td>\n",
       "    </tr>\n",
       "    <tr>\n",
       "      <th>385</th>\n",
       "      <td>lai</td>\n",
       "      <td>104</td>\n",
       "    </tr>\n",
       "    <tr>\n",
       "      <th>386</th>\n",
       "      <td>papa</td>\n",
       "      <td>104</td>\n",
       "    </tr>\n",
       "    <tr>\n",
       "      <th>387</th>\n",
       "      <td>knew</td>\n",
       "      <td>103</td>\n",
       "    </tr>\n",
       "    <tr>\n",
       "      <th>388</th>\n",
       "      <td>loved</td>\n",
       "      <td>103</td>\n",
       "    </tr>\n",
       "    <tr>\n",
       "      <th>389</th>\n",
       "      <td>ah…</td>\n",
       "      <td>102</td>\n",
       "    </tr>\n",
       "    <tr>\n",
       "      <th>390</th>\n",
       "      <td>wonderful</td>\n",
       "      <td>102</td>\n",
       "    </tr>\n",
       "    <tr>\n",
       "      <th>391</th>\n",
       "      <td>also</td>\n",
       "      <td>101</td>\n",
       "    </tr>\n",
       "    <tr>\n",
       "      <th>392</th>\n",
       "      <td>gave</td>\n",
       "      <td>101</td>\n",
       "    </tr>\n",
       "    <tr>\n",
       "      <th>393</th>\n",
       "      <td>ooh…</td>\n",
       "      <td>101</td>\n",
       "    </tr>\n",
       "    <tr>\n",
       "      <th>394</th>\n",
       "      <td>easy</td>\n",
       "      <td>100</td>\n",
       "    </tr>\n",
       "    <tr>\n",
       "      <th>395</th>\n",
       "      <td>at</td>\n",
       "      <td>100</td>\n",
       "    </tr>\n",
       "    <tr>\n",
       "      <th>396</th>\n",
       "      <td>truth</td>\n",
       "      <td>100</td>\n",
       "    </tr>\n",
       "    <tr>\n",
       "      <th>397</th>\n",
       "      <td>help</td>\n",
       "      <td>100</td>\n",
       "    </tr>\n",
       "    <tr>\n",
       "      <th>398</th>\n",
       "      <td>dark</td>\n",
       "      <td>99</td>\n",
       "    </tr>\n",
       "    <tr>\n",
       "      <th>399</th>\n",
       "      <td>making</td>\n",
       "      <td>99</td>\n",
       "    </tr>\n",
       "  </tbody>\n",
       "</table>\n",
       "<p>400 rows × 2 columns</p>\n",
       "</div>"
      ],
      "text/plain": [
       "          Word  Frequency\n",
       "0            ,      23890\n",
       "1            ’      16707\n",
       "2            i      14281\n",
       "3            s       4434\n",
       "4          you       4329\n",
       "5         love       4269\n",
       "6            t       3943\n",
       "7            (       3221\n",
       "8            )       3221\n",
       "9          and       2944\n",
       "10          it       2617\n",
       "11           ?       2572\n",
       "12           m       2528\n",
       "13         don       1940\n",
       "14        like       1843\n",
       "15          ll       1827\n",
       "16          we       1810\n",
       "17          re       1686\n",
       "18         the       1580\n",
       "19        know       1538\n",
       "20        come       1450\n",
       "21         one       1423\n",
       "22          oh       1397\n",
       "23         let       1388\n",
       "24        time       1325\n",
       "25          me       1284\n",
       "26       heart       1240\n",
       "27        life       1234\n",
       "28          go       1232\n",
       "29       never       1219\n",
       "..         ...        ...\n",
       "370   thinking        107\n",
       "371         mi        107\n",
       "372      three        106\n",
       "373       dawn        106\n",
       "374     reason        106\n",
       "375       miss        106\n",
       "376     wanted        106\n",
       "377      girls        105\n",
       "378      wings        105\n",
       "379      lives        105\n",
       "380       else        105\n",
       "381      great        105\n",
       "382      power        105\n",
       "383    friends        105\n",
       "384      which        104\n",
       "385        lai        104\n",
       "386       papa        104\n",
       "387       knew        103\n",
       "388      loved        103\n",
       "389        ah…        102\n",
       "390  wonderful        102\n",
       "391       also        101\n",
       "392       gave        101\n",
       "393       ooh…        101\n",
       "394       easy        100\n",
       "395         at        100\n",
       "396      truth        100\n",
       "397       help        100\n",
       "398       dark         99\n",
       "399     making         99\n",
       "\n",
       "[400 rows x 2 columns]"
      ]
     },
     "execution_count": 42,
     "metadata": {},
     "output_type": "execute_result"
    }
   ],
   "source": [
    "rslt = pd.DataFrame(word_dist.most_common(top_N),\n",
    "                    columns=['Word', 'Frequency'])\n",
    "rslt.head(400)"
   ]
  }
 ],
 "metadata": {
  "kernelspec": {
   "display_name": "Python [conda env:untitled]",
   "language": "python",
   "name": "conda-env-untitled-py"
  },
  "language_info": {
   "codemirror_mode": {
    "name": "ipython",
    "version": 3
   },
   "file_extension": ".py",
   "mimetype": "text/x-python",
   "name": "python",
   "nbconvert_exporter": "python",
   "pygments_lexer": "ipython3",
   "version": "3.6.3"
  }
 },
 "nbformat": 4,
 "nbformat_minor": 1
}
