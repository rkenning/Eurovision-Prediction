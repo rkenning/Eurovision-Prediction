{
 "cells": [
  {
   "cell_type": "code",
   "execution_count": 1,
   "metadata": {
    "collapsed": false
   },
   "outputs": [],
   "source": [
    "# Required Python Packages\n",
    "import pandas as pd\n",
    "import numpy as np\n",
    "from sklearn.model_selection import train_test_split\n",
    "from sklearn.ensemble import RandomForestClassifier\n",
    "from sklearn.metrics import accuracy_score\n",
    "from sklearn.metrics import confusion_matrix"
   ]
  },
  {
   "cell_type": "code",
   "execution_count": 2,
   "metadata": {
    "collapsed": true
   },
   "outputs": [],
   "source": [
    "df= pd.read_csv(\"./data/Processed1DataSet.csv\")\n",
    "df_results = df    #Keep a copy of the original dataset for review of the predictions"
   ]
  },
  {
   "cell_type": "code",
   "execution_count": 3,
   "metadata": {
    "collapsed": false
   },
   "outputs": [
    {
     "data": {
      "text/plain": [
       "Index(['Unnamed: 0', 'Year', 'Song Title', 'Local Lyrics Lines',\n",
       "       'Local Lyrics Single Line', 'Translation', 'Translation Multi Line',\n",
       "       'Country', 'Composer', 'Lyrics',\n",
       "       ...\n",
       "       'Sentiment_suj_53', 'Sentiment_suj_54', 'Sentiment_suj_55',\n",
       "       'Sentiment_suj_56', 'Sentiment_suj_57', 'Sentiment_suj_58',\n",
       "       'Sentiment_suj_59', 'Sentiment_suj_60', 'Sentiment_suj_61',\n",
       "       'Sentiment_suj_62'],\n",
       "      dtype='object', length=156)"
      ]
     },
     "execution_count": 3,
     "metadata": {},
     "output_type": "execute_result"
    }
   ],
   "source": [
    "df.columns"
   ]
  },
  {
   "cell_type": "markdown",
   "metadata": {},
   "source": [
    "<h2>Data Prep</h2>"
   ]
  },
  {
   "cell_type": "code",
   "execution_count": 4,
   "metadata": {
    "collapsed": true
   },
   "outputs": [],
   "source": [
    "#Create the dummy fields\n",
    "dummy = pd.get_dummies(df['Country'])\n",
    "df = pd.concat([df,dummy],axis=1)\n",
    "df = df.drop('Country', 1)\n",
    "df = df.fillna(0)"
   ]
  },
  {
   "cell_type": "code",
   "execution_count": 5,
   "metadata": {
    "collapsed": false
   },
   "outputs": [],
   "source": [
    "df= df.drop(['Unnamed: 0','Song Title', 'Local Lyrics Lines',\n",
    "       'Local Lyrics Single Line', 'Translation', 'Translation Multi Line',\n",
    "       'Composer', 'Lyrics', 'Conductor', 'Contest', 'Round',\n",
    "       'Semi Final Position', 'Semi Final Points', \n",
    "       'Final Points', 'Other Version 1', 'Other Version 2', 'Other Version 3',\n",
    "       'Other Version 4', 'Other Version 5', 'Other Version 6',\n",
    "       'Other Version 7', 'Other Version 8', 'Other Version 9'],axis=1)"
   ]
  },
  {
   "cell_type": "code",
   "execution_count": 6,
   "metadata": {
    "collapsed": false
   },
   "outputs": [],
   "source": [
    "df2 = df.loc[df['Year']!=2018]\n",
    "df2018 = df.loc[df['Year']==2018]"
   ]
  },
  {
   "cell_type": "code",
   "execution_count": 7,
   "metadata": {
    "collapsed": false
   },
   "outputs": [],
   "source": [
    "#Remove all null final position records\n",
    "df2 =  df.loc[df['Year']!=2018].loc[df['Final Position'].notnull()] #Remove the entries which didn't make it to the fina\n",
    "df2 =  df2.loc[df['Final Position']!=0.0] #Remove the entries which didn't make it to the final"
   ]
  },
  {
   "cell_type": "code",
   "execution_count": 8,
   "metadata": {
    "collapsed": false
   },
   "outputs": [],
   "source": [
    "features = df2"
   ]
  },
  {
   "cell_type": "code",
   "execution_count": 9,
   "metadata": {
    "collapsed": false
   },
   "outputs": [
    {
     "data": {
      "text/plain": [
       "(1252, 185)"
      ]
     },
     "execution_count": 9,
     "metadata": {},
     "output_type": "execute_result"
    }
   ],
   "source": [
    "features.shape"
   ]
  },
  {
   "cell_type": "code",
   "execution_count": 10,
   "metadata": {
    "collapsed": false
   },
   "outputs": [],
   "source": [
    "# Labels are the values we want to predict\n",
    "labels = np.array(features['Final Position'])\n",
    "\n",
    "# Remove the labels from the features\n",
    "# axis 1 refers to the columns\n",
    "features= features.drop('Final Position', axis = 1)\n",
    "\n",
    "# Saving feature names for later use\n",
    "feature_list = list(features.columns)\n",
    "\n",
    "# Convert to numpy array\n",
    "features = np.array(features)"
   ]
  },
  {
   "cell_type": "code",
   "execution_count": 11,
   "metadata": {
    "collapsed": false
   },
   "outputs": [],
   "source": [
    "# Using Skicit-learn to split data into training and testing sets\n",
    "from sklearn.model_selection import train_test_split\n",
    "\n",
    "# Split the data into training and testing sets\n",
    "train_features, test_features, train_labels, test_labels = train_test_split(features, labels, test_size = 0.25,\n",
    "                                                                           random_state = 42)"
   ]
  },
  {
   "cell_type": "code",
   "execution_count": 12,
   "metadata": {
    "collapsed": false
   },
   "outputs": [
    {
     "name": "stdout",
     "output_type": "stream",
     "text": [
      "Training Features Shape: (939, 184)\n",
      "Training Labels Shape: (939,)\n",
      "Testing Features Shape: (313, 184)\n",
      "Testing Labels Shape: (313,)\n"
     ]
    }
   ],
   "source": [
    "print('Training Features Shape:', train_features.shape)\n",
    "print('Training Labels Shape:', train_labels.shape)\n",
    "print('Testing Features Shape:', test_features.shape)\n",
    "print('Testing Labels Shape:', test_labels.shape)"
   ]
  },
  {
   "cell_type": "markdown",
   "metadata": {},
   "source": [
    "<h2>Build the Nural Net</h2>"
   ]
  },
  {
   "cell_type": "code",
   "execution_count": 13,
   "metadata": {
    "collapsed": false
   },
   "outputs": [
    {
     "name": "stdout",
     "output_type": "stream",
     "text": [
      "Mean Absolute Error: 5.35 points.\n",
      "Accuracy: -29.45 %.\n"
     ]
    }
   ],
   "source": [
    "# New Attempt at Model\n",
    "from sklearn.neural_network import MLPClassifier\n",
    "from sklearn.ensemble import RandomForestRegressor\n",
    "\n",
    "\n",
    "rf_new = RandomForestRegressor(n_estimators = 1000, criterion = 'mse', max_depth = None,random_state=0, \n",
    "                               min_samples_split = 2, min_samples_leaf = 1)\n",
    "\n",
    "#rf_new = MLPClassifier(hidden_layer_sizes=(100,100,1000,100,100,100), max_iter=1700)\n",
    "\n",
    "\n",
    "# Train the model on training data\n",
    "rf_new.fit(train_features, train_labels);\n",
    "# Use the forest's predict method on the test data\n",
    "predictions = rf_new.predict(test_features)\n",
    "\n",
    "# Calculate the absolute errors\n",
    "errors = abs(predictions - test_labels)\n",
    "\n",
    "# Print out the mean absolute error (mae)\n",
    "print('Mean Absolute Error:', round(np.mean(errors), 2), 'points.')\n",
    "# Calculate mean absolute percentage error (MAPE)\n",
    "\n",
    "#Quick fix to work with 0 values\n",
    "mape = 100 * (errors / test_labels)\n",
    "\n",
    "#mape = mean_absolute_percentage_error(predictions / test_labels)\n",
    "# Calculate and display accuracy\n",
    "accuracy = 100 - np.mean(mape)\n",
    "print('Accuracy:', round(accuracy, 2), '%.')"
   ]
  },
  {
   "cell_type": "code",
   "execution_count": 14,
   "metadata": {
    "collapsed": false
   },
   "outputs": [
    {
     "ename": "ValueError",
     "evalue": "Classification metrics can't handle a mix of multiclass and continuous targets",
     "output_type": "error",
     "traceback": [
      "\u001b[1;31m---------------------------------------------------------------------------\u001b[0m",
      "\u001b[1;31mValueError\u001b[0m                                Traceback (most recent call last)",
      "\u001b[1;32m<ipython-input-14-d395fa1809d3>\u001b[0m in \u001b[0;36m<module>\u001b[1;34m()\u001b[0m\n\u001b[0;32m      3\u001b[0m \u001b[1;31m#accuracy_score(test_labels, predictions.argmax(axis=1))\u001b[0m\u001b[1;33m\u001b[0m\u001b[1;33m\u001b[0m\u001b[0m\n\u001b[0;32m      4\u001b[0m \u001b[1;33m\u001b[0m\u001b[0m\n\u001b[1;32m----> 5\u001b[1;33m \u001b[0mcm\u001b[0m \u001b[1;33m=\u001b[0m \u001b[0mpd\u001b[0m\u001b[1;33m.\u001b[0m\u001b[0mDataFrame\u001b[0m\u001b[1;33m(\u001b[0m\u001b[0mconfusion_matrix\u001b[0m\u001b[1;33m(\u001b[0m\u001b[0mtest_labels\u001b[0m\u001b[1;33m,\u001b[0m \u001b[0mpredictions\u001b[0m\u001b[1;33m)\u001b[0m\u001b[1;33m,\u001b[0m \u001b[0mcolumns\u001b[0m\u001b[1;33m=\u001b[0m\u001b[0mPosition\u001b[0m\u001b[1;33m,\u001b[0m \u001b[0mindex\u001b[0m\u001b[1;33m=\u001b[0m\u001b[0mPosition\u001b[0m\u001b[1;33m)\u001b[0m\u001b[1;33m\u001b[0m\u001b[0m\n\u001b[0m\u001b[0;32m      6\u001b[0m \u001b[0msns\u001b[0m\u001b[1;33m.\u001b[0m\u001b[0mheatmap\u001b[0m\u001b[1;33m(\u001b[0m\u001b[0mcm\u001b[0m\u001b[1;33m,\u001b[0m \u001b[0mannot\u001b[0m\u001b[1;33m=\u001b[0m\u001b[1;32mTrue\u001b[0m\u001b[1;33m)\u001b[0m\u001b[1;33m\u001b[0m\u001b[0m\n",
      "\u001b[1;32m~\\Anaconda2\\envs\\untitled\\lib\\site-packages\\sklearn\\metrics\\classification.py\u001b[0m in \u001b[0;36mconfusion_matrix\u001b[1;34m(y_true, y_pred, labels, sample_weight)\u001b[0m\n\u001b[0;32m    248\u001b[0m \u001b[1;33m\u001b[0m\u001b[0m\n\u001b[0;32m    249\u001b[0m     \"\"\"\n\u001b[1;32m--> 250\u001b[1;33m     \u001b[0my_type\u001b[0m\u001b[1;33m,\u001b[0m \u001b[0my_true\u001b[0m\u001b[1;33m,\u001b[0m \u001b[0my_pred\u001b[0m \u001b[1;33m=\u001b[0m \u001b[0m_check_targets\u001b[0m\u001b[1;33m(\u001b[0m\u001b[0my_true\u001b[0m\u001b[1;33m,\u001b[0m \u001b[0my_pred\u001b[0m\u001b[1;33m)\u001b[0m\u001b[1;33m\u001b[0m\u001b[0m\n\u001b[0m\u001b[0;32m    251\u001b[0m     \u001b[1;32mif\u001b[0m \u001b[0my_type\u001b[0m \u001b[1;32mnot\u001b[0m \u001b[1;32min\u001b[0m \u001b[1;33m(\u001b[0m\u001b[1;34m\"binary\"\u001b[0m\u001b[1;33m,\u001b[0m \u001b[1;34m\"multiclass\"\u001b[0m\u001b[1;33m)\u001b[0m\u001b[1;33m:\u001b[0m\u001b[1;33m\u001b[0m\u001b[0m\n\u001b[0;32m    252\u001b[0m         \u001b[1;32mraise\u001b[0m \u001b[0mValueError\u001b[0m\u001b[1;33m(\u001b[0m\u001b[1;34m\"%s is not supported\"\u001b[0m \u001b[1;33m%\u001b[0m \u001b[0my_type\u001b[0m\u001b[1;33m)\u001b[0m\u001b[1;33m\u001b[0m\u001b[0m\n",
      "\u001b[1;32m~\\Anaconda2\\envs\\untitled\\lib\\site-packages\\sklearn\\metrics\\classification.py\u001b[0m in \u001b[0;36m_check_targets\u001b[1;34m(y_true, y_pred)\u001b[0m\n\u001b[0;32m     79\u001b[0m     \u001b[1;32mif\u001b[0m \u001b[0mlen\u001b[0m\u001b[1;33m(\u001b[0m\u001b[0my_type\u001b[0m\u001b[1;33m)\u001b[0m \u001b[1;33m>\u001b[0m \u001b[1;36m1\u001b[0m\u001b[1;33m:\u001b[0m\u001b[1;33m\u001b[0m\u001b[0m\n\u001b[0;32m     80\u001b[0m         raise ValueError(\"Classification metrics can't handle a mix of {0} \"\n\u001b[1;32m---> 81\u001b[1;33m                          \"and {1} targets\".format(type_true, type_pred))\n\u001b[0m\u001b[0;32m     82\u001b[0m \u001b[1;33m\u001b[0m\u001b[0m\n\u001b[0;32m     83\u001b[0m     \u001b[1;31m# We can't have more than one value on y_type => The set is no more needed\u001b[0m\u001b[1;33m\u001b[0m\u001b[1;33m\u001b[0m\u001b[0m\n",
      "\u001b[1;31mValueError\u001b[0m: Classification metrics can't handle a mix of multiclass and continuous targets"
     ]
    }
   ],
   "source": [
    "from sklearn.metrics import confusion_matrix\n",
    "Position=list(range(1, 26))\n",
    "#accuracy_score(test_labels, predictions.argmax(axis=1))\n",
    "\n",
    "cm = pd.DataFrame(confusion_matrix(test_labels, predictions), columns=Position, index=Position)\n",
    "sns.heatmap(cm, annot=True)"
   ]
  },
  {
   "cell_type": "markdown",
   "metadata": {},
   "source": [
    "<h2>Try the 2018 dataset with the model</h2>"
   ]
  },
  {
   "cell_type": "code",
   "execution_count": 15,
   "metadata": {
    "collapsed": false
   },
   "outputs": [
    {
     "data": {
      "text/html": [
       "<div>\n",
       "<style scoped>\n",
       "    .dataframe tbody tr th:only-of-type {\n",
       "        vertical-align: middle;\n",
       "    }\n",
       "\n",
       "    .dataframe tbody tr th {\n",
       "        vertical-align: top;\n",
       "    }\n",
       "\n",
       "    .dataframe thead th {\n",
       "        text-align: right;\n",
       "    }\n",
       "</style>\n",
       "<table border=\"1\" class=\"dataframe\">\n",
       "  <thead>\n",
       "    <tr style=\"text-align: right;\">\n",
       "      <th></th>\n",
       "      <th>Song Title</th>\n",
       "      <th>Country</th>\n",
       "      <th>Prediction</th>\n",
       "    </tr>\n",
       "  </thead>\n",
       "  <tbody>\n",
       "    <tr>\n",
       "      <th>1489</th>\n",
       "      <td>Crazy</td>\n",
       "      <td>Croatia</td>\n",
       "      <td>10.285</td>\n",
       "    </tr>\n",
       "    <tr>\n",
       "      <th>1519</th>\n",
       "      <td>Who We Are</td>\n",
       "      <td>San Marino</td>\n",
       "      <td>10.715</td>\n",
       "    </tr>\n",
       "    <tr>\n",
       "      <th>1494</th>\n",
       "      <td>La forza</td>\n",
       "      <td>Estonia</td>\n",
       "      <td>11.120</td>\n",
       "    </tr>\n",
       "    <tr>\n",
       "      <th>1509</th>\n",
       "      <td>Taboo</td>\n",
       "      <td>Malta</td>\n",
       "      <td>11.176</td>\n",
       "    </tr>\n",
       "    <tr>\n",
       "      <th>1521</th>\n",
       "      <td>Tu canción</td>\n",
       "      <td>Spain</td>\n",
       "      <td>11.283</td>\n",
       "    </tr>\n",
       "    <tr>\n",
       "      <th>1518</th>\n",
       "      <td>I Won’t Break</td>\n",
       "      <td>Russia</td>\n",
       "      <td>11.414</td>\n",
       "    </tr>\n",
       "    <tr>\n",
       "      <th>1556</th>\n",
       "      <td>Light Me Up</td>\n",
       "      <td>Poland</td>\n",
       "      <td>11.443</td>\n",
       "    </tr>\n",
       "    <tr>\n",
       "      <th>1514</th>\n",
       "      <td>O jardim</td>\n",
       "      <td>Portugal</td>\n",
       "      <td>11.762</td>\n",
       "    </tr>\n",
       "    <tr>\n",
       "      <th>1513</th>\n",
       "      <td>That’s How You Write A a Song</td>\n",
       "      <td>Norway</td>\n",
       "      <td>11.782</td>\n",
       "    </tr>\n",
       "    <tr>\n",
       "      <th>1511</th>\n",
       "      <td>Inje</td>\n",
       "      <td>Montenegro</td>\n",
       "      <td>11.937</td>\n",
       "    </tr>\n",
       "    <tr>\n",
       "      <th>1506</th>\n",
       "      <td>Toy</td>\n",
       "      <td>Israel</td>\n",
       "      <td>11.957</td>\n",
       "    </tr>\n",
       "    <tr>\n",
       "      <th>1488</th>\n",
       "      <td>Bones</td>\n",
       "      <td>Bulgaria</td>\n",
       "      <td>12.433</td>\n",
       "    </tr>\n",
       "    <tr>\n",
       "      <th>1496</th>\n",
       "      <td>Mercy</td>\n",
       "      <td>France</td>\n",
       "      <td>12.708</td>\n",
       "    </tr>\n",
       "    <tr>\n",
       "      <th>1491</th>\n",
       "      <td>Nova deca</td>\n",
       "      <td>Serbia</td>\n",
       "      <td>12.809</td>\n",
       "    </tr>\n",
       "    <tr>\n",
       "      <th>1555</th>\n",
       "      <td>Non mi avete fatto niente</td>\n",
       "      <td>Italy</td>\n",
       "      <td>13.038</td>\n",
       "    </tr>\n",
       "    <tr>\n",
       "      <th>1512</th>\n",
       "      <td>Outlaw in ‘Em</td>\n",
       "      <td>Netherlands</td>\n",
       "      <td>13.113</td>\n",
       "    </tr>\n",
       "    <tr>\n",
       "      <th>1495</th>\n",
       "      <td>Monsters</td>\n",
       "      <td>Finland</td>\n",
       "      <td>13.189</td>\n",
       "    </tr>\n",
       "    <tr>\n",
       "      <th>1551</th>\n",
       "      <td>Under The Ladder</td>\n",
       "      <td>Ukraine</td>\n",
       "      <td>13.332</td>\n",
       "    </tr>\n",
       "    <tr>\n",
       "      <th>1557</th>\n",
       "      <td>Funny Girl</td>\n",
       "      <td>Latvia</td>\n",
       "      <td>13.476</td>\n",
       "    </tr>\n",
       "    <tr>\n",
       "      <th>1478</th>\n",
       "      <td>We Got Love</td>\n",
       "      <td>Australia</td>\n",
       "      <td>13.530</td>\n",
       "    </tr>\n",
       "    <tr>\n",
       "      <th>1501</th>\n",
       "      <td>Oneiro mou</td>\n",
       "      <td>Greece</td>\n",
       "      <td>13.637</td>\n",
       "    </tr>\n",
       "    <tr>\n",
       "      <th>1522</th>\n",
       "      <td>Dance You Off</td>\n",
       "      <td>Sweden</td>\n",
       "      <td>13.774</td>\n",
       "    </tr>\n",
       "    <tr>\n",
       "      <th>1523</th>\n",
       "      <td>Stones</td>\n",
       "      <td>Switzerland</td>\n",
       "      <td>13.775</td>\n",
       "    </tr>\n",
       "    <tr>\n",
       "      <th>1558</th>\n",
       "      <td>Our Choice</td>\n",
       "      <td>Iceland</td>\n",
       "      <td>14.016</td>\n",
       "    </tr>\n",
       "    <tr>\n",
       "      <th>1483</th>\n",
       "      <td>Forever</td>\n",
       "      <td>Belarus</td>\n",
       "      <td>14.264</td>\n",
       "    </tr>\n",
       "    <tr>\n",
       "      <th>1487</th>\n",
       "      <td>A Matter of Time</td>\n",
       "      <td>Belgium</td>\n",
       "      <td>14.275</td>\n",
       "    </tr>\n",
       "    <tr>\n",
       "      <th>1477</th>\n",
       "      <td>Qami</td>\n",
       "      <td>Armenia</td>\n",
       "      <td>14.332</td>\n",
       "    </tr>\n",
       "    <tr>\n",
       "      <th>1510</th>\n",
       "      <td>My Lucky Day</td>\n",
       "      <td>Moldova</td>\n",
       "      <td>14.460</td>\n",
       "    </tr>\n",
       "    <tr>\n",
       "      <th>1479</th>\n",
       "      <td>Nobody But You</td>\n",
       "      <td>Austria</td>\n",
       "      <td>14.464</td>\n",
       "    </tr>\n",
       "    <tr>\n",
       "      <th>1515</th>\n",
       "      <td>Goodbye</td>\n",
       "      <td>Romania</td>\n",
       "      <td>14.606</td>\n",
       "    </tr>\n",
       "    <tr>\n",
       "      <th>1520</th>\n",
       "      <td>Hvala, ne</td>\n",
       "      <td>Slovenia</td>\n",
       "      <td>14.715</td>\n",
       "    </tr>\n",
       "    <tr>\n",
       "      <th>1476</th>\n",
       "      <td>Mall</td>\n",
       "      <td>Albania</td>\n",
       "      <td>14.771</td>\n",
       "    </tr>\n",
       "    <tr>\n",
       "      <th>1492</th>\n",
       "      <td>Lie to Me</td>\n",
       "      <td>Czech Republic</td>\n",
       "      <td>14.777</td>\n",
       "    </tr>\n",
       "    <tr>\n",
       "      <th>1480</th>\n",
       "      <td>X My Heart</td>\n",
       "      <td>Azerbaijan</td>\n",
       "      <td>14.805</td>\n",
       "    </tr>\n",
       "    <tr>\n",
       "      <th>1497</th>\n",
       "      <td>Lost And Found</td>\n",
       "      <td>FYR Macedonia</td>\n",
       "      <td>15.061</td>\n",
       "    </tr>\n",
       "    <tr>\n",
       "      <th>1553</th>\n",
       "      <td>Storm</td>\n",
       "      <td>United Kingdom</td>\n",
       "      <td>15.174</td>\n",
       "    </tr>\n",
       "    <tr>\n",
       "      <th>1493</th>\n",
       "      <td>Higher Ground</td>\n",
       "      <td>Denmark</td>\n",
       "      <td>15.359</td>\n",
       "    </tr>\n",
       "    <tr>\n",
       "      <th>1500</th>\n",
       "      <td>You Let Me Walk Alone</td>\n",
       "      <td>Germany</td>\n",
       "      <td>15.499</td>\n",
       "    </tr>\n",
       "    <tr>\n",
       "      <th>1505</th>\n",
       "      <td>Together</td>\n",
       "      <td>Ireland</td>\n",
       "      <td>15.706</td>\n",
       "    </tr>\n",
       "    <tr>\n",
       "      <th>1503</th>\n",
       "      <td>Viszlát nyár</td>\n",
       "      <td>NaN</td>\n",
       "      <td>17.370</td>\n",
       "    </tr>\n",
       "    <tr>\n",
       "      <th>1490</th>\n",
       "      <td>Fuego</td>\n",
       "      <td>Cyprus</td>\n",
       "      <td>17.714</td>\n",
       "    </tr>\n",
       "  </tbody>\n",
       "</table>\n",
       "</div>"
      ],
      "text/plain": [
       "                         Song Title         Country  Prediction\n",
       "1489                          Crazy         Croatia      10.285\n",
       "1519                     Who We Are      San Marino      10.715\n",
       "1494                       La forza         Estonia      11.120\n",
       "1509                          Taboo           Malta      11.176\n",
       "1521                     Tu canción           Spain      11.283\n",
       "1518                  I Won’t Break          Russia      11.414\n",
       "1556                    Light Me Up          Poland      11.443\n",
       "1514                       O jardim        Portugal      11.762\n",
       "1513  That’s How You Write A a Song          Norway      11.782\n",
       "1511                           Inje      Montenegro      11.937\n",
       "1506                            Toy          Israel      11.957\n",
       "1488                          Bones        Bulgaria      12.433\n",
       "1496                          Mercy          France      12.708\n",
       "1491                      Nova deca          Serbia      12.809\n",
       "1555      Non mi avete fatto niente           Italy      13.038\n",
       "1512                  Outlaw in ‘Em     Netherlands      13.113\n",
       "1495                       Monsters         Finland      13.189\n",
       "1551               Under The Ladder         Ukraine      13.332\n",
       "1557                     Funny Girl          Latvia      13.476\n",
       "1478                    We Got Love       Australia      13.530\n",
       "1501                     Oneiro mou          Greece      13.637\n",
       "1522                  Dance You Off          Sweden      13.774\n",
       "1523                         Stones     Switzerland      13.775\n",
       "1558                     Our Choice         Iceland      14.016\n",
       "1483                        Forever         Belarus      14.264\n",
       "1487               A Matter of Time         Belgium      14.275\n",
       "1477                           Qami         Armenia      14.332\n",
       "1510                   My Lucky Day         Moldova      14.460\n",
       "1479                 Nobody But You         Austria      14.464\n",
       "1515                        Goodbye         Romania      14.606\n",
       "1520                      Hvala, ne        Slovenia      14.715\n",
       "1476                           Mall         Albania      14.771\n",
       "1492                      Lie to Me  Czech Republic      14.777\n",
       "1480                     X My Heart      Azerbaijan      14.805\n",
       "1497                 Lost And Found   FYR Macedonia      15.061\n",
       "1553                          Storm  United Kingdom      15.174\n",
       "1493                  Higher Ground         Denmark      15.359\n",
       "1500          You Let Me Walk Alone         Germany      15.499\n",
       "1505                       Together         Ireland      15.706\n",
       "1503                   Viszlát nyár             NaN      17.370\n",
       "1490                          Fuego          Cyprus      17.714"
      ]
     },
     "execution_count": 15,
     "metadata": {},
     "output_type": "execute_result"
    }
   ],
   "source": [
    "#Test the 2018 results\n",
    "features = df2018\n",
    "# Labels are the values we want to predict\n",
    "labels = np.array(features['Final Position'])\n",
    "# Remove the labels from the features\n",
    "# axis 1 refers to the columns\n",
    "features= features.drop('Final Position', axis = 1)\n",
    "# Saving feature names for later use\n",
    "feature_list = list(features.columns)\n",
    "# Convert to numpy array\n",
    "features = np.array(features)\n",
    "predictions = rf_new.predict(features)\n",
    "\n",
    "#Join the predictions back to the original dataset \n",
    "newdf = pd.DataFrame(data= df_results.loc[df['Year']==2018])\n",
    "newdf['Prediction']=predictions\n",
    "\n",
    "results= newdf[['Song Title','Country','Prediction']].sort_values(by=['Prediction'])\n",
    "results #Lets take a look at the results"
   ]
  },
  {
   "cell_type": "markdown",
   "metadata": {},
   "source": [
    "<h2>Graph the 2018 results</h2>"
   ]
  },
  {
   "cell_type": "code",
   "execution_count": 17,
   "metadata": {
    "collapsed": false
   },
   "outputs": [
    {
     "data": {
      "text/plain": [
       "<matplotlib.axes._subplots.AxesSubplot at 0x19987c1db00>"
      ]
     },
     "execution_count": 17,
     "metadata": {},
     "output_type": "execute_result"
    },
    {
     "data": {
      "image/png": "[encoded data removed]",
      "text/plain": [
       "<Figure size 432x1080 with 1 Axes>"
      ]
     },
     "metadata": {},
     "output_type": "display_data"
    }
   ],
   "source": [
    "import seaborn as sns\n",
    "import matplotlib.pyplot as plt\n",
    "sns.set(style=\"whitegrid\")\n",
    "# Initialize the matplotlib figure\n",
    "f, ax = plt.subplots(figsize=(6, 15))\n",
    "# Plot the song positions\n",
    "sns.set_color_codes(\"pastel\")\n",
    "sns.barplot(x=\"Prediction\", y=\"Song Title\", data=results,\n",
    "            label=\"Prediction\", color=\"b\")\n"
   ]
  }
 ],
 "metadata": {
  "kernelspec": {
   "display_name": "Python [conda env:untitled]",
   "language": "python",
   "name": "conda-env-untitled-py"
  },
  "language_info": {
   "codemirror_mode": {
    "name": "ipython",
    "version": 3
   },
   "file_extension": ".py",
   "mimetype": "text/x-python",
   "name": "python",
   "nbconvert_exporter": "python",
   "pygments_lexer": "ipython3",
   "version": "3.6.3"
  }
 },
 "nbformat": 4,
 "nbformat_minor": 2
}
