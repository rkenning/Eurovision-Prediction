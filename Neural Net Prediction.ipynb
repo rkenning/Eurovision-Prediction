{
 "cells": [
  {
   "cell_type": "code",
   "execution_count": 91,
   "metadata": {
    "collapsed": false
   },
   "outputs": [],
   "source": [
    "# Required Python Packages\n",
    "import pandas as pd\n",
    "import numpy as np\n",
    "from sklearn.model_selection import train_test_split\n",
    "from sklearn.ensemble import RandomForestClassifier\n",
    "from sklearn.metrics import accuracy_score\n",
    "from sklearn.metrics import confusion_matrix"
   ]
  },
  {
   "cell_type": "code",
   "execution_count": 92,
   "metadata": {
    "collapsed": true
   },
   "outputs": [],
   "source": [
    "df= pd.read_csv(\"./data/Processed1DataSet.csv\")\n",
    "df_results = df    #Keep a copy of the original dataset for review of the predictions"
   ]
  },
  {
   "cell_type": "code",
   "execution_count": 93,
   "metadata": {
    "collapsed": false
   },
   "outputs": [
    {
     "data": {
      "text/plain": [
       "Index(['Unnamed: 0', 'Year', 'Song Title', 'Local Lyrics Lines',\n",
       "       'Local Lyrics Single Line', 'Translation', 'Translation Multi Line',\n",
       "       'Country', 'Composer', 'Lyrics', 'Conductor', 'Contest', 'Round',\n",
       "       'Semi Final Position', 'Semi Final Points', 'Final Position',\n",
       "       'Final Points', 'Other Version 1', 'Other Version 2', 'Other Version 3',\n",
       "       'Other Version 4', 'Other Version 5', 'Other Version 6',\n",
       "       'Other Version 7', 'Other Version 8', 'Other Version 9',\n",
       "       'Translation Length'],\n",
       "      dtype='object')"
      ]
     },
     "execution_count": 93,
     "metadata": {},
     "output_type": "execute_result"
    }
   ],
   "source": [
    "df.columns"
   ]
  },
  {
   "cell_type": "markdown",
   "metadata": {},
   "source": [
    "<h2>Data Prep</h2>"
   ]
  },
  {
   "cell_type": "code",
   "execution_count": 94,
   "metadata": {
    "collapsed": true
   },
   "outputs": [],
   "source": [
    "#Create the dummy fields\n",
    "dummy = pd.get_dummies(df['Country'])\n",
    "df = pd.concat([df,dummy],axis=1)\n",
    "df = df.drop('Country', 1)\n",
    "df = df.fillna(0)"
   ]
  },
  {
   "cell_type": "code",
   "execution_count": 95,
   "metadata": {
    "collapsed": false
   },
   "outputs": [],
   "source": [
    "df= df.drop(['Unnamed: 0','Song Title', 'Local Lyrics Lines',\n",
    "       'Local Lyrics Single Line', 'Translation', 'Translation Multi Line',\n",
    "       'Composer', 'Lyrics', 'Conductor', 'Contest', 'Round',\n",
    "       'Semi Final Position', 'Semi Final Points', \n",
    "       'Final Points', 'Other Version 1', 'Other Version 2', 'Other Version 3',\n",
    "       'Other Version 4', 'Other Version 5', 'Other Version 6',\n",
    "       'Other Version 7', 'Other Version 8', 'Other Version 9'],axis=1)"
   ]
  },
  {
   "cell_type": "code",
   "execution_count": 96,
   "metadata": {
    "collapsed": false
   },
   "outputs": [],
   "source": [
    "df2 = df.loc[df['Year']!=2018]\n",
    "df2018 = df.loc[df['Year']==2018]"
   ]
  },
  {
   "cell_type": "code",
   "execution_count": 97,
   "metadata": {
    "collapsed": false
   },
   "outputs": [],
   "source": [
    "#Remove all null final position records\n",
    "df2 =  df.loc[df['Year']!=2018].loc[df['Final Position'].notnull()] #Remove the entries which didn't make it to the fina\n",
    "df2 =  df2.loc[df['Final Position']!=0.0] #Remove the entries which didn't make it to the final"
   ]
  },
  {
   "cell_type": "code",
   "execution_count": 104,
   "metadata": {
    "collapsed": false
   },
   "outputs": [],
   "source": [
    "features = df2"
   ]
  },
  {
   "cell_type": "code",
   "execution_count": 103,
   "metadata": {
    "collapsed": false
   },
   "outputs": [
    {
     "data": {
      "text/plain": [
       "(41, 55)"
      ]
     },
     "execution_count": 103,
     "metadata": {},
     "output_type": "execute_result"
    }
   ],
   "source": [
    "features.shape"
   ]
  },
  {
   "cell_type": "code",
   "execution_count": 105,
   "metadata": {
    "collapsed": false
   },
   "outputs": [],
   "source": [
    "# Labels are the values we want to predict\n",
    "labels = np.array(features['Final Position'])\n",
    "\n",
    "# Remove the labels from the features\n",
    "# axis 1 refers to the columns\n",
    "features= features.drop('Final Position', axis = 1)\n",
    "\n",
    "# Saving feature names for later use\n",
    "feature_list = list(features.columns)\n",
    "\n",
    "# Convert to numpy array\n",
    "features = np.array(features)"
   ]
  },
  {
   "cell_type": "code",
   "execution_count": 106,
   "metadata": {
    "collapsed": false
   },
   "outputs": [],
   "source": [
    "# Using Skicit-learn to split data into training and testing sets\n",
    "from sklearn.model_selection import train_test_split\n",
    "\n",
    "# Split the data into training and testing sets\n",
    "train_features, test_features, train_labels, test_labels = train_test_split(features, labels, test_size = 0.25,\n",
    "                                                                           random_state = 42)"
   ]
  },
  {
   "cell_type": "code",
   "execution_count": 107,
   "metadata": {
    "collapsed": false
   },
   "outputs": [
    {
     "name": "stdout",
     "output_type": "stream",
     "text": [
      "Training Features Shape: (939, 55)\n",
      "Training Labels Shape: (939,)\n",
      "Testing Features Shape: (313, 55)\n",
      "Testing Labels Shape: (313,)\n"
     ]
    }
   ],
   "source": [
    "print('Training Features Shape:', train_features.shape)\n",
    "print('Training Labels Shape:', train_labels.shape)\n",
    "print('Testing Features Shape:', test_features.shape)\n",
    "print('Testing Labels Shape:', test_labels.shape)"
   ]
  },
  {
   "cell_type": "markdown",
   "metadata": {},
   "source": [
    "<h2>Build the Nural Net</h2>"
   ]
  },
  {
   "cell_type": "code",
   "execution_count": 132,
   "metadata": {
    "collapsed": false
   },
   "outputs": [
    {
     "name": "stdout",
     "output_type": "stream",
     "text": [
      "Mean Absolute Error: 5.93 points.\n",
      "Accuracy: 13.4 %.\n"
     ]
    }
   ],
   "source": [
    "# New Attempt at Model\n",
    "from sklearn.neural_network import MLPClassifier\n",
    "#rf_new = RandomForestRegressor(n_estimators = 1000, criterion = 'mse', max_depth = None, \n",
    "#                               min_samples_split = 2, min_samples_leaf = 1)\n",
    "\n",
    "rf_new = MLPClassifier(hidden_layer_sizes=(500,500,500,500), max_iter=800)\n",
    "\n",
    "\n",
    "# Train the model on training data\n",
    "rf_new.fit(train_features, train_labels);\n",
    "# Use the forest's predict method on the test data\n",
    "predictions = rf_new.predict(test_features)\n",
    "\n",
    "# Calculate the absolute errors\n",
    "errors = abs(predictions - test_labels)\n",
    "\n",
    "# Print out the mean absolute error (mae)\n",
    "print('Mean Absolute Error:', round(np.mean(errors), 2), 'points.')\n",
    "# Calculate mean absolute percentage error (MAPE)\n",
    "\n",
    "#Quick fix to work with 0 values\n",
    "mape_err = errors + 1\n",
    "mape_lab = test_labels + 1\n",
    "mape = 100 * (mape_err / mape_lab)\n",
    "\n",
    "#mape = mean_absolute_percentage_error(predictions / test_labels)\n",
    "# Calculate and display accuracy\n",
    "accuracy = 100 - np.mean(mape)\n",
    "print('Accuracy:', round(accuracy, 2), '%.')"
   ]
  },
  {
   "cell_type": "markdown",
   "metadata": {},
   "source": [
    "<h2>Try the 2018 dataset with the model</h2>"
   ]
  },
  {
   "cell_type": "code",
   "execution_count": 133,
   "metadata": {
    "collapsed": false
   },
   "outputs": [
    {
     "data": {
      "text/html": [
       "<div>\n",
       "<style scoped>\n",
       "    .dataframe tbody tr th:only-of-type {\n",
       "        vertical-align: middle;\n",
       "    }\n",
       "\n",
       "    .dataframe tbody tr th {\n",
       "        vertical-align: top;\n",
       "    }\n",
       "\n",
       "    .dataframe thead th {\n",
       "        text-align: right;\n",
       "    }\n",
       "</style>\n",
       "<table border=\"1\" class=\"dataframe\">\n",
       "  <thead>\n",
       "    <tr style=\"text-align: right;\">\n",
       "      <th></th>\n",
       "      <th>Song Title</th>\n",
       "      <th>Country</th>\n",
       "      <th>Prediction</th>\n",
       "    </tr>\n",
       "  </thead>\n",
       "  <tbody>\n",
       "    <tr>\n",
       "      <th>1476</th>\n",
       "      <td>Mall</td>\n",
       "      <td>Albania</td>\n",
       "      <td>7.0</td>\n",
       "    </tr>\n",
       "    <tr>\n",
       "      <th>1510</th>\n",
       "      <td>My Lucky Day</td>\n",
       "      <td>Moldova</td>\n",
       "      <td>7.0</td>\n",
       "    </tr>\n",
       "    <tr>\n",
       "      <th>1513</th>\n",
       "      <td>That’s How You Write A a Song</td>\n",
       "      <td>Norway</td>\n",
       "      <td>7.0</td>\n",
       "    </tr>\n",
       "    <tr>\n",
       "      <th>1495</th>\n",
       "      <td>Monsters</td>\n",
       "      <td>Finland</td>\n",
       "      <td>7.0</td>\n",
       "    </tr>\n",
       "    <tr>\n",
       "      <th>1551</th>\n",
       "      <td>Under The Ladder</td>\n",
       "      <td>Ukraine</td>\n",
       "      <td>7.0</td>\n",
       "    </tr>\n",
       "    <tr>\n",
       "      <th>1487</th>\n",
       "      <td>A Matter of Time</td>\n",
       "      <td>Belgium</td>\n",
       "      <td>7.0</td>\n",
       "    </tr>\n",
       "    <tr>\n",
       "      <th>1520</th>\n",
       "      <td>Hvala, ne</td>\n",
       "      <td>Slovenia</td>\n",
       "      <td>7.0</td>\n",
       "    </tr>\n",
       "    <tr>\n",
       "      <th>1480</th>\n",
       "      <td>X My Heart</td>\n",
       "      <td>Azerbaijan</td>\n",
       "      <td>7.0</td>\n",
       "    </tr>\n",
       "    <tr>\n",
       "      <th>1479</th>\n",
       "      <td>Nobody But You</td>\n",
       "      <td>Austria</td>\n",
       "      <td>7.0</td>\n",
       "    </tr>\n",
       "    <tr>\n",
       "      <th>1556</th>\n",
       "      <td>Light Me Up</td>\n",
       "      <td>Poland</td>\n",
       "      <td>7.0</td>\n",
       "    </tr>\n",
       "    <tr>\n",
       "      <th>1553</th>\n",
       "      <td>Storm</td>\n",
       "      <td>United Kingdom</td>\n",
       "      <td>7.0</td>\n",
       "    </tr>\n",
       "    <tr>\n",
       "      <th>1523</th>\n",
       "      <td>Stones</td>\n",
       "      <td>Switzerland</td>\n",
       "      <td>8.0</td>\n",
       "    </tr>\n",
       "    <tr>\n",
       "      <th>1522</th>\n",
       "      <td>Dance You Off</td>\n",
       "      <td>Sweden</td>\n",
       "      <td>8.0</td>\n",
       "    </tr>\n",
       "    <tr>\n",
       "      <th>1509</th>\n",
       "      <td>Taboo</td>\n",
       "      <td>Malta</td>\n",
       "      <td>8.0</td>\n",
       "    </tr>\n",
       "    <tr>\n",
       "      <th>1519</th>\n",
       "      <td>Who We Are</td>\n",
       "      <td>San Marino</td>\n",
       "      <td>8.0</td>\n",
       "    </tr>\n",
       "    <tr>\n",
       "      <th>1518</th>\n",
       "      <td>I Won’t Break</td>\n",
       "      <td>Russia</td>\n",
       "      <td>8.0</td>\n",
       "    </tr>\n",
       "    <tr>\n",
       "      <th>1514</th>\n",
       "      <td>O jardim</td>\n",
       "      <td>Portugal</td>\n",
       "      <td>8.0</td>\n",
       "    </tr>\n",
       "    <tr>\n",
       "      <th>1555</th>\n",
       "      <td>Non mi avete fatto niente</td>\n",
       "      <td>Italy</td>\n",
       "      <td>8.0</td>\n",
       "    </tr>\n",
       "    <tr>\n",
       "      <th>1512</th>\n",
       "      <td>Outlaw in ‘Em</td>\n",
       "      <td>Netherlands</td>\n",
       "      <td>8.0</td>\n",
       "    </tr>\n",
       "    <tr>\n",
       "      <th>1511</th>\n",
       "      <td>Inje</td>\n",
       "      <td>Montenegro</td>\n",
       "      <td>8.0</td>\n",
       "    </tr>\n",
       "    <tr>\n",
       "      <th>1506</th>\n",
       "      <td>Toy</td>\n",
       "      <td>Israel</td>\n",
       "      <td>8.0</td>\n",
       "    </tr>\n",
       "    <tr>\n",
       "      <th>1505</th>\n",
       "      <td>Together</td>\n",
       "      <td>Ireland</td>\n",
       "      <td>8.0</td>\n",
       "    </tr>\n",
       "    <tr>\n",
       "      <th>1503</th>\n",
       "      <td>Viszlát nyár</td>\n",
       "      <td>NaN</td>\n",
       "      <td>8.0</td>\n",
       "    </tr>\n",
       "    <tr>\n",
       "      <th>1477</th>\n",
       "      <td>Qami</td>\n",
       "      <td>Armenia</td>\n",
       "      <td>8.0</td>\n",
       "    </tr>\n",
       "    <tr>\n",
       "      <th>1478</th>\n",
       "      <td>We Got Love</td>\n",
       "      <td>Australia</td>\n",
       "      <td>8.0</td>\n",
       "    </tr>\n",
       "    <tr>\n",
       "      <th>1483</th>\n",
       "      <td>Forever</td>\n",
       "      <td>Belarus</td>\n",
       "      <td>8.0</td>\n",
       "    </tr>\n",
       "    <tr>\n",
       "      <th>1488</th>\n",
       "      <td>Bones</td>\n",
       "      <td>Bulgaria</td>\n",
       "      <td>8.0</td>\n",
       "    </tr>\n",
       "    <tr>\n",
       "      <th>1489</th>\n",
       "      <td>Crazy</td>\n",
       "      <td>Croatia</td>\n",
       "      <td>8.0</td>\n",
       "    </tr>\n",
       "    <tr>\n",
       "      <th>1490</th>\n",
       "      <td>Fuego</td>\n",
       "      <td>Cyprus</td>\n",
       "      <td>8.0</td>\n",
       "    </tr>\n",
       "    <tr>\n",
       "      <th>1557</th>\n",
       "      <td>Funny Girl</td>\n",
       "      <td>Latvia</td>\n",
       "      <td>8.0</td>\n",
       "    </tr>\n",
       "    <tr>\n",
       "      <th>1491</th>\n",
       "      <td>Nova deca</td>\n",
       "      <td>Serbia</td>\n",
       "      <td>8.0</td>\n",
       "    </tr>\n",
       "    <tr>\n",
       "      <th>1493</th>\n",
       "      <td>Higher Ground</td>\n",
       "      <td>Denmark</td>\n",
       "      <td>8.0</td>\n",
       "    </tr>\n",
       "    <tr>\n",
       "      <th>1494</th>\n",
       "      <td>La forza</td>\n",
       "      <td>Estonia</td>\n",
       "      <td>8.0</td>\n",
       "    </tr>\n",
       "    <tr>\n",
       "      <th>1496</th>\n",
       "      <td>Mercy</td>\n",
       "      <td>France</td>\n",
       "      <td>8.0</td>\n",
       "    </tr>\n",
       "    <tr>\n",
       "      <th>1497</th>\n",
       "      <td>Lost And Found</td>\n",
       "      <td>FYR Macedonia</td>\n",
       "      <td>8.0</td>\n",
       "    </tr>\n",
       "    <tr>\n",
       "      <th>1500</th>\n",
       "      <td>You Let Me Walk Alone</td>\n",
       "      <td>Germany</td>\n",
       "      <td>8.0</td>\n",
       "    </tr>\n",
       "    <tr>\n",
       "      <th>1501</th>\n",
       "      <td>Oneiro mou</td>\n",
       "      <td>Greece</td>\n",
       "      <td>8.0</td>\n",
       "    </tr>\n",
       "    <tr>\n",
       "      <th>1492</th>\n",
       "      <td>Lie to Me</td>\n",
       "      <td>Czech Republic</td>\n",
       "      <td>8.0</td>\n",
       "    </tr>\n",
       "    <tr>\n",
       "      <th>1558</th>\n",
       "      <td>Our Choice</td>\n",
       "      <td>Iceland</td>\n",
       "      <td>8.0</td>\n",
       "    </tr>\n",
       "    <tr>\n",
       "      <th>1521</th>\n",
       "      <td>Tu canción</td>\n",
       "      <td>Spain</td>\n",
       "      <td>13.0</td>\n",
       "    </tr>\n",
       "    <tr>\n",
       "      <th>1515</th>\n",
       "      <td>Goodbye</td>\n",
       "      <td>Romania</td>\n",
       "      <td>13.0</td>\n",
       "    </tr>\n",
       "  </tbody>\n",
       "</table>\n",
       "</div>"
      ],
      "text/plain": [
       "                         Song Title         Country  Prediction\n",
       "1476                           Mall         Albania         7.0\n",
       "1510                   My Lucky Day         Moldova         7.0\n",
       "1513  That’s How You Write A a Song          Norway         7.0\n",
       "1495                       Monsters         Finland         7.0\n",
       "1551               Under The Ladder         Ukraine         7.0\n",
       "1487               A Matter of Time         Belgium         7.0\n",
       "1520                      Hvala, ne        Slovenia         7.0\n",
       "1480                     X My Heart      Azerbaijan         7.0\n",
       "1479                 Nobody But You         Austria         7.0\n",
       "1556                    Light Me Up          Poland         7.0\n",
       "1553                          Storm  United Kingdom         7.0\n",
       "1523                         Stones     Switzerland         8.0\n",
       "1522                  Dance You Off          Sweden         8.0\n",
       "1509                          Taboo           Malta         8.0\n",
       "1519                     Who We Are      San Marino         8.0\n",
       "1518                  I Won’t Break          Russia         8.0\n",
       "1514                       O jardim        Portugal         8.0\n",
       "1555      Non mi avete fatto niente           Italy         8.0\n",
       "1512                  Outlaw in ‘Em     Netherlands         8.0\n",
       "1511                           Inje      Montenegro         8.0\n",
       "1506                            Toy          Israel         8.0\n",
       "1505                       Together         Ireland         8.0\n",
       "1503                   Viszlát nyár             NaN         8.0\n",
       "1477                           Qami         Armenia         8.0\n",
       "1478                    We Got Love       Australia         8.0\n",
       "1483                        Forever         Belarus         8.0\n",
       "1488                          Bones        Bulgaria         8.0\n",
       "1489                          Crazy         Croatia         8.0\n",
       "1490                          Fuego          Cyprus         8.0\n",
       "1557                     Funny Girl          Latvia         8.0\n",
       "1491                      Nova deca          Serbia         8.0\n",
       "1493                  Higher Ground         Denmark         8.0\n",
       "1494                       La forza         Estonia         8.0\n",
       "1496                          Mercy          France         8.0\n",
       "1497                 Lost And Found   FYR Macedonia         8.0\n",
       "1500          You Let Me Walk Alone         Germany         8.0\n",
       "1501                     Oneiro mou          Greece         8.0\n",
       "1492                      Lie to Me  Czech Republic         8.0\n",
       "1558                     Our Choice         Iceland         8.0\n",
       "1521                     Tu canción           Spain        13.0\n",
       "1515                        Goodbye         Romania        13.0"
      ]
     },
     "execution_count": 133,
     "metadata": {},
     "output_type": "execute_result"
    }
   ],
   "source": [
    "#Test the 2018 results\n",
    "features = df2018\n",
    "# Labels are the values we want to predict\n",
    "labels = np.array(features['Final Position'])\n",
    "# Remove the labels from the features\n",
    "# axis 1 refers to the columns\n",
    "features= features.drop('Final Position', axis = 1)\n",
    "# Saving feature names for later use\n",
    "feature_list = list(features.columns)\n",
    "# Convert to numpy array\n",
    "features = np.array(features)\n",
    "predictions = rf_new.predict(features)\n",
    "\n",
    "#Join the predictions back to the original dataset \n",
    "newdf = pd.DataFrame(data= df_results.loc[df['Year']==2018])\n",
    "newdf['Prediction']=predictions\n",
    "\n",
    "results= newdf[['Song Title','Country','Prediction']].sort_values(by=['Prediction'])\n",
    "results #Lets take a look at the results"
   ]
  },
  {
   "cell_type": "markdown",
   "metadata": {},
   "source": [
    "<h2>Graph the 2018 results</h2>"
   ]
  },
  {
   "cell_type": "code",
   "execution_count": 134,
   "metadata": {
    "collapsed": false
   },
   "outputs": [
    {
     "data": {
      "text/plain": [
       "<matplotlib.axes._subplots.AxesSubplot at 0x20165adb8d0>"
      ]
     },
     "execution_count": 134,
     "metadata": {},
     "output_type": "execute_result"
    },
    {
     "data": {
      "image/png": "[encoded data removed]",
      "text/plain": [
       "<Figure size 432x1080 with 1 Axes>"
      ]
     },
     "metadata": {},
     "output_type": "display_data"
    }
   ],
   "source": [
    "import seaborn as sns\n",
    "import matplotlib.pyplot as plt\n",
    "sns.set(style=\"whitegrid\")\n",
    "# Initialize the matplotlib figure\n",
    "f, ax = plt.subplots(figsize=(6, 15))\n",
    "# Plot the song positions\n",
    "sns.set_color_codes(\"pastel\")\n",
    "sns.barplot(x=\"Prediction\", y=\"Song Title\", data=results,\n",
    "            label=\"Prediction\", color=\"b\")\n"
   ]
  }
 ],
 "metadata": {
  "kernelspec": {
   "display_name": "Python [conda env:untitled]",
   "language": "python",
   "name": "conda-env-untitled-py"
  },
  "language_info": {
   "codemirror_mode": {
    "name": "ipython",
    "version": 3
   },
   "file_extension": ".py",
   "mimetype": "text/x-python",
   "name": "python",
   "nbconvert_exporter": "python",
   "pygments_lexer": "ipython3",
   "version": "3.6.3"
  }
 },
 "nbformat": 4,
 "nbformat_minor": 2
}
